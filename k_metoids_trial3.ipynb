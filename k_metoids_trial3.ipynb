{
 "cells": [
  {
   "cell_type": "markdown",
   "metadata": {},
   "source": [
    "KMetoids project using 2009 retail sales data\n",
    "from raw data to final violin plotting"
   ]
  },
  {
   "cell_type": "markdown",
   "metadata": {},
   "source": [
    "Load packages"
   ]
  },
  {
   "cell_type": "code",
   "execution_count": null,
   "metadata": {},
   "outputs": [],
   "source": [
    "import numpy as np\n",
    "import pandas as pd\n",
    "import seaborn as sns\n",
    "import matplotlib.pyplot as plt\n",
    "import warnings\n",
    "warnings.filterwarnings('ignore')\n",
    "\n",
    "from mpl_toolkits.mplot3d import Axes3D\n",
    "from sklearn.metrics import silhouette_score\n",
    "from sklearn.preprocessing import StandardScaler\n",
    "from sklearn.preprocessing import MinMaxScaler\n",
    "from sklearn.preprocessing import scale\n",
    "from sklearn.cluster import KMeans\n",
    "from sklearn_extra.cluster import KMedoids\n",
    "from sklearn.decomposition import PCA\n",
    "\n"
   ]
  },
  {
   "cell_type": "code",
   "execution_count": null,
   "metadata": {},
   "outputs": [],
   "source": [
    "df_raw = pd.options.display.float_format = '{:20.2f}'.format\n",
    "pd.set_option('display.max_columns', 999)"
   ]
  },
  {
   "cell_type": "markdown",
   "metadata": {},
   "source": [
    "load data set for 2009 retail sales data\n",
    "Check data for obvious problems"
   ]
  },
  {
   "cell_type": "code",
   "execution_count": null,
   "metadata": {},
   "outputs": [],
   "source": [
    "df_raw = pd.read_csv('online_retail_II_p1.csv', encoding='ISO-8859-1')"
   ]
  },
  {
   "cell_type": "code",
   "execution_count": null,
   "metadata": {},
   "outputs": [],
   "source": [
    "df_raw.info()"
   ]
  },
  {
   "cell_type": "code",
   "execution_count": null,
   "metadata": {},
   "outputs": [],
   "source": [
    "df_raw.describe()"
   ]
  },
  {
   "cell_type": "code",
   "execution_count": null,
   "metadata": {},
   "outputs": [],
   "source": [
    "df_raw.describe(include='O')"
   ]
  },
  {
   "cell_type": "markdown",
   "metadata": {},
   "source": [
    "Customers will need to be looked at\n",
    "Price and Qty have negative values and these will have to be looked at\n",
    "1. look at customer id for NaN\n",
    "2. check qty for neg values\n",
    "3. check invoice to see why neg values for price"
   ]
  },
  {
   "cell_type": "code",
   "execution_count": null,
   "metadata": {},
   "outputs": [],
   "source": [
    "df_raw[df_raw['Customer ID'].isna()].head(20)"
   ]
  },
  {
   "cell_type": "code",
   "execution_count": null,
   "metadata": {},
   "outputs": [],
   "source": [
    "df_raw[df_raw['Quantity'] < 0].head(20)"
   ]
  },
  {
   "cell_type": "code",
   "execution_count": null,
   "metadata": {},
   "outputs": [],
   "source": [
    "df_raw['Invoice'] = df_raw['Invoice'].astype('str')\n",
    "df_raw[df_raw['Invoice'].str.match(\"^\\\\d{6}$\") == False]"
   ]
  },
  {
   "cell_type": "markdown",
   "metadata": {},
   "source": [
    "Check invoice column for non-6 digit values"
   ]
  },
  {
   "cell_type": "code",
   "execution_count": null,
   "metadata": {},
   "outputs": [],
   "source": [
    "df_raw['Invoice'].str.replace(\"[0-9]\", \"\", regex=True).unique()"
   ]
  },
  {
   "cell_type": "code",
   "execution_count": null,
   "metadata": {},
   "outputs": [],
   "source": [
    "df_raw[df_raw['Invoice'].str.startswith('A')]"
   ]
  },
  {
   "cell_type": "markdown",
   "metadata": {},
   "source": [
    "Check stock codes for interesting things"
   ]
  },
  {
   "cell_type": "code",
   "execution_count": null,
   "metadata": {},
   "outputs": [],
   "source": [
    "df_raw['StockCode'] = df_raw['StockCode'].astype('str')\n",
    "\n",
    "df_raw[(df_raw['StockCode'].str.match(\"^\\\\d{5}$\") == False) & (df_raw['StockCode'].str.match('^\\\\d{5}[a-zA-Z]+$')== False)]['StockCode'].unique()"
   ]
  },
  {
   "cell_type": "markdown",
   "metadata": {},
   "source": [
    "Lots of non-numeric stock codes to check\n",
    "Out of all of the non-numerics only keep PADS"
   ]
  },
  {
   "cell_type": "code",
   "execution_count": null,
   "metadata": {},
   "outputs": [],
   "source": [
    "df_raw[df_raw['StockCode'].str.contains(\"^DOT\")]"
   ]
  },
  {
   "cell_type": "code",
   "execution_count": null,
   "metadata": {},
   "outputs": [],
   "source": [
    "df_raw[df_raw['StockCode'].str.contains(\"^PADS$\")]"
   ]
  },
  {
   "cell_type": "markdown",
   "metadata": {},
   "source": [
    "Clean up the data based on the findings"
   ]
  },
  {
   "cell_type": "code",
   "execution_count": null,
   "metadata": {},
   "outputs": [],
   "source": [
    "df_cleaned = df_raw.copy()\n",
    "df_cleaned"
   ]
  },
  {
   "cell_type": "markdown",
   "metadata": {},
   "source": [
    "Clean up invoices to invoices w/ 6 digits only. No 'C' or 'A' types"
   ]
  },
  {
   "cell_type": "code",
   "execution_count": null,
   "metadata": {},
   "outputs": [],
   "source": [
    "df_cleaned['Invoice'] = df_cleaned['Invoice'].astype('str')\n",
    "\n",
    "mask = (\n",
    "    df_cleaned['Invoice'].str.match(\"^\\\\d{6}$\") == True\n",
    ")\n",
    "df_cleaned = df_cleaned[mask]\n",
    "df_cleaned"
   ]
  },
  {
   "cell_type": "markdown",
   "metadata": {},
   "source": [
    "Clean up the stock codes to either 5 digits, or 5 digits + an alpha, or PADS"
   ]
  },
  {
   "cell_type": "code",
   "execution_count": null,
   "metadata": {},
   "outputs": [],
   "source": [
    "df_cleaned['StockCode'] = df_cleaned['StockCode'].astype('str')\n",
    "\n",
    "mask = (\n",
    "    (df_cleaned['StockCode'].str.match(\"^\\\\d{5}\") == True)\n",
    "    | (df_cleaned['StockCode'].str.match(\"^\\\\d{5}[a-zA-Z]+$\") == True)\n",
    "    | (df_cleaned['StockCode'].str.match(\"^PADS\") == True)\n",
    ")\n",
    "\n",
    "df_cleaned[mask]\n",
    "\n",
    "df_cleaned[(df_cleaned['StockCode'].str.match(\"^\\\\d{5}$\") == True) & (df_cleaned['StockCode'].str.match('^\\\\d{5}[a-zA-Z]+$')== True)]['StockCode'].unique()\n"
   ]
  },
  {
   "cell_type": "markdown",
   "metadata": {},
   "source": [
    "Drop Customer ID = NaN"
   ]
  },
  {
   "cell_type": "code",
   "execution_count": null,
   "metadata": {},
   "outputs": [],
   "source": [
    "df_cleaned.dropna(subset=['Customer ID'], inplace=True)"
   ]
  },
  {
   "cell_type": "markdown",
   "metadata": {},
   "source": [
    "Clean up neg prices"
   ]
  },
  {
   "cell_type": "code",
   "execution_count": null,
   "metadata": {},
   "outputs": [],
   "source": [
    "# Check min price <> actual 0.00\n",
    "len(df_cleaned[df_cleaned['Price'] == 0])"
   ]
  },
  {
   "cell_type": "code",
   "execution_count": null,
   "metadata": {},
   "outputs": [],
   "source": [
    "df_cleaned = df_cleaned[df_cleaned['Price'] > 0.00]"
   ]
  },
  {
   "cell_type": "code",
   "execution_count": null,
   "metadata": {},
   "outputs": [],
   "source": [
    "len(df_cleaned[df_cleaned['Price'] == 0])"
   ]
  },
  {
   "cell_type": "markdown",
   "metadata": {},
   "source": [
    "Check numbers match up"
   ]
  },
  {
   "cell_type": "code",
   "execution_count": null,
   "metadata": {},
   "outputs": [],
   "source": [
    "df_cleaned.describe()\n"
   ]
  },
  {
   "cell_type": "markdown",
   "metadata": {},
   "source": [
    "Data lost in cleaning - 22.4%"
   ]
  },
  {
   "cell_type": "code",
   "execution_count": null,
   "metadata": {},
   "outputs": [],
   "source": [
    "len(df_cleaned) / len(df_raw)"
   ]
  },
  {
   "cell_type": "markdown",
   "metadata": {},
   "source": [
    "Add line extension of SalesLineTotal to df by multiplying Price * Qty"
   ]
  },
  {
   "cell_type": "code",
   "execution_count": null,
   "metadata": {},
   "outputs": [],
   "source": [
    "\n",
    "#Clean up spelling error \n",
    "\n",
    "df_cleaned = df_cleaned.drop('SlaesLineTotal', axis=1)"
   ]
  },
  {
   "cell_type": "code",
   "execution_count": null,
   "metadata": {},
   "outputs": [],
   "source": [
    "df_cleaned['SalesLineTotal'] = df_cleaned['Price'] * df_cleaned['Quantity']\n",
    "df_cleaned.head(2)"
   ]
  },
  {
   "cell_type": "markdown",
   "metadata": {},
   "source": [
    "Aggregate the data on Customer ID and start to create the RFM features"
   ]
  },
  {
   "cell_type": "code",
   "execution_count": null,
   "metadata": {},
   "outputs": [],
   "source": [
    "df_agg = df_cleaned.groupby(by='Customer ID', as_index=False) \\\n",
    "    .agg(\n",
    "        MonetaryValue=('SalesLineTotal', \"sum\"),\n",
    "        Frequency = ('Invoice', 'nunique'),\n",
    "        LastInvoiceDate = ('InvoiceDate', 'max')\n",
    ")\n",
    "df_agg.head()"
   ]
  },
  {
   "cell_type": "code",
   "execution_count": null,
   "metadata": {},
   "outputs": [],
   "source": [
    "df_agg['LastInvoiceDate'] = pd.to_datetime(df_agg['LastInvoiceDate'])\n",
    "max_invoice_date = df_agg['LastInvoiceDate'].max()\n",
    "df_agg['Recency'] = (max_invoice_date - df_agg['LastInvoiceDate']).dt.days\n",
    "\n",
    "df_agg.head()"
   ]
  },
  {
   "cell_type": "markdown",
   "metadata": {},
   "source": [
    "We already know that the data is skewed by a large number of high value outliers in MonetaryValue and Frequency and a histogram and 3-D plot would reveal this.\n",
    "\n",
    "Therefore we will transform the data using a log transformation and scale the result using MinMax to force all of the \n",
    "features onto a common scale.\n",
    "\n",
    "Plot the result and compare it to the previous KMeans and second year KMetoids results"
   ]
  },
  {
   "cell_type": "code",
   "execution_count": null,
   "metadata": {},
   "outputs": [],
   "source": [
    "selected_columns = [\"MonetaryValue\", \"Frequency\", \"Recency\"]\n",
    "df_agg_log = df_agg[selected_columns].copy()\n",
    "\n",
    "df_agg_log[\"MonetaryValue\"] = np.log1p(df_agg['MonetaryValue'])\n",
    "df_agg_log[\"Frequency\"] = np.log1p(df_agg['Frequency'])\n",
    "df_agg_log[\"Recency\"] = np.log1p(df_agg['Recency'])"
   ]
  },
  {
   "cell_type": "code",
   "execution_count": null,
   "metadata": {},
   "outputs": [],
   "source": [
    "scaler = MinMaxScaler()\n",
    "\n",
    "scaled_data = scaler.fit_transform(df_agg_log[[\"MonetaryValue\", \"Frequency\", \"Recency\"]])\n",
    "scaled_data"
   ]
  },
  {
   "cell_type": "code",
   "execution_count": null,
   "metadata": {},
   "outputs": [],
   "source": [
    "df_agg_log_scaled = pd.DataFrame(scaled_data, index=df_agg_log.index,\n",
    "                            columns=('MonetaryValue', 'Frequency', 'Recency'))\n",
    "\n",
    "df_agg_log_scaled"
   ]
  },
  {
   "cell_type": "code",
   "execution_count": null,
   "metadata": {},
   "outputs": [],
   "source": [
    "fig = plt.figure(figsize=(8, 8))\n",
    "\n",
    "ax = fig.add_subplot(projection='3d')\n",
    "scatter = ax.scatter(df_agg_log_scaled['MonetaryValue'], df_agg_log_scaled['Frequency'], df_agg_log_scaled['Recency'])\n",
    "ax.set_xlabel('Monetary Value')\n",
    "ax.set_ylabel('Frequency')\n",
    "ax.set_zlabel('Recency')\n",
    "ax.set_title('3-D Plot of Transformed and Scaled Data')"
   ]
  },
  {
   "cell_type": "markdown",
   "metadata": {},
   "source": [
    "Data is transformed and scaled on a 0-1 range.\n",
    "Use KMetoids to develop clusters for this data"
   ]
  },
  {
   "cell_type": "code",
   "execution_count": null,
   "metadata": {},
   "outputs": [],
   "source": [
    "df_metoids = df_agg_log_scaled.copy()"
   ]
  },
  {
   "cell_type": "markdown",
   "metadata": {},
   "source": [
    "Determine the number of clusters to use in KMedoids by using silhouette scores - clusters = 4 is determined"
   ]
  },
  {
   "cell_type": "code",
   "execution_count": null,
   "metadata": {},
   "outputs": [],
   "source": [
    "X = df_metoids[['MonetaryValue', 'Frequency', 'Recency']]\n",
    "\n",
    "silhouette_scores = []\n",
    "range_n_clusters = range(2, 11)\n",
    "\n",
    "for n_clusters in range_n_clusters:\n",
    "    kmedoids = KMedoids(n_clusters=n_clusters, random_state=0).fit(X)\n",
    "    cluster_labels = kmedoids.labels_\n",
    "    silhouette_avg = silhouette_score(X, cluster_labels)\n",
    "    silhouette_scores.append(silhouette_avg)"
   ]
  },
  {
   "cell_type": "code",
   "execution_count": null,
   "metadata": {},
   "outputs": [],
   "source": [
    "plt.plot(range_n_clusters, silhouette_scores, marker='o')\n",
    "plt.xlabel('Number of Clusters')\n",
    "plt.ylabel('Silhouette Score')\n",
    "plt.title('Silhouette Scores for K-Medoids')\n",
    "plt.show()"
   ]
  },
  {
   "cell_type": "code",
   "execution_count": null,
   "metadata": {},
   "outputs": [],
   "source": [
    "X = df_metoids[['MonetaryValue', 'Frequency', 'Recency']]\n",
    "kmedoids = KMedoids(n_clusters=4, random_state=0).fit(X)\n",
    "cluster_labels = kmedoids.labels_\n",
    "df_metoids['Cluster'] = cluster_labels\n",
    "df_metoids"
   ]
  },
  {
   "cell_type": "markdown",
   "metadata": {},
   "source": [
    "Plot the results"
   ]
  },
  {
   "cell_type": "code",
   "execution_count": null,
   "metadata": {},
   "outputs": [],
   "source": [
    "cluster_colors = {0: '#1f77b4', # Blue\n",
    "                  1: '#ff7f0e', # Orange\n",
    "                  2: '#2ca02c', # Green\n",
    "                  3: '#d62728', # Red   \n",
    "}\n",
    "\n",
    "colors = df_metoids['Cluster'].map(cluster_colors)\n",
    "\n",
    "fig = plt.figure(figsize=(10, 10))\n",
    "ax = fig.add_subplot(projection='3d')\n",
    "\n",
    "scatter = ax.scatter(df_metoids['MonetaryValue'],\n",
    "                     df_metoids['Frequency'],\n",
    "                     df_metoids['Recency'],\n",
    "                     c=colors,\n",
    "                     marker='o')\n",
    "\n",
    "ax.set_xlabel('Monetary Value')\n",
    "ax.set_ylabel('Frequency')\n",
    "ax.set_zlabel('Recency')\n",
    "ax.set_title('3-D Scatterplot of Customer Data by Clusters(k): KMedoids')\n"
   ]
  },
  {
   "cell_type": "markdown",
   "metadata": {},
   "source": [
    "Violin Plots"
   ]
  },
  {
   "cell_type": "code",
   "execution_count": null,
   "metadata": {},
   "outputs": [],
   "source": [
    "fig = plt.figure(figsize=(12, 18))\n",
    "\n",
    "plt.subplot(3, 1, 1)\n",
    "sns.violinplot(x=df_metoids['Cluster'], y=df_metoids['MonetaryValue'], palette=cluster_colors,\n",
    "               hue=df_metoids['Cluster'])\n",
    "sns.violinplot(y=df_metoids['MonetaryValue'], color='gray', linewidth=1.0)\n",
    "plt.title('Monetary Value by Metoid Cluster: 2009 Data')\n",
    "plt.ylabel('Monetary Value')\n",
    "\n",
    "plt.subplot(3, 1, 2)\n",
    "sns.violinplot(x=df_metoids['Cluster'], y=df_metoids['Frequency'], palette=cluster_colors,\n",
    "               hue=df_metoids['Cluster'])\n",
    "sns.violinplot(y=df_metoids['Frequency'], color='gray', linewidth=1.0)\n",
    "plt.title('Frequency by Metoid Cluster: 2009 Data')\n",
    "plt.ylabel('Frequency')\n",
    "\n",
    "plt.subplot(3, 1, 3)\n",
    "sns.violinplot(x=df_metoids['Cluster'], y=df_metoids['Recency'], palette=cluster_colors,\n",
    "               hue=df_metoids['Cluster'])\n",
    "sns.violinplot(y=df_metoids['Recency'], color='gray', linewidth=1.0)\n",
    "plt.title('Recency by Metoid Cluster: 2009 Data')\n",
    "plt.ylabel('Recency')\n",
    "\n",
    "plt.tight_layout()\n",
    "plt.show()"
   ]
  }
 ],
 "metadata": {
  "kernelspec": {
   "display_name": "Python 3",
   "language": "python",
   "name": "python3"
  },
  "language_info": {
   "codemirror_mode": {
    "name": "ipython",
    "version": 3
   },
   "file_extension": ".py",
   "mimetype": "text/x-python",
   "name": "python",
   "nbconvert_exporter": "python",
   "pygments_lexer": "ipython3",
   "version": "3.10.3"
  }
 },
 "nbformat": 4,
 "nbformat_minor": 2
}
